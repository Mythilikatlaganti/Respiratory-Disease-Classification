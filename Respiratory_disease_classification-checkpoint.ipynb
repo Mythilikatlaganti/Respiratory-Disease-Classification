{
 "cells": [
  {
   "cell_type": "code",
   "execution_count": 4,
   "metadata": {},
   "outputs": [
    {
     "name": "stdout",
     "output_type": "stream",
     "text": [
      "Collecting package metadata (current_repodata.json): ...working... done\n",
      "Solving environment: ...working... failed with initial frozen solve. Retrying with flexible solve.\n",
      "Solving environment: ...working... failed with repodata from current_repodata.json, will retry with next repodata source.\n",
      "Collecting package metadata (repodata.json): ...working... done\n",
      "Solving environment: ...working... done\n",
      "\n",
      "## Package Plan ##\n",
      "\n",
      "  environment location: C:\\Users\\DELL\\anaconda3\n",
      "\n",
      "  added / updated specs:\n",
      "    - librosa\n",
      "\n",
      "\n",
      "The following packages will be downloaded:\n",
      "\n",
      "    package                    |            build\n",
      "    ---------------------------|-----------------\n",
      "    audioread-3.0.1            |   py39hcbf5309_1          36 KB  conda-forge\n",
      "    conda-22.9.0               |   py39hcbf5309_2         985 KB  conda-forge\n",
      "    libflac-1.3.4              |       h0e60522_0         355 KB  conda-forge\n",
      "    libogg-1.3.4               |       h8ffe710_1          34 KB  conda-forge\n",
      "    libopus-1.3.1              |       h8ffe710_1         255 KB  conda-forge\n",
      "    librosa-0.9.2              |     pyhd8ed1ab_0         156 KB  conda-forge\n",
      "    libsndfile-1.0.31          |       h0e60522_1         354 KB  conda-forge\n",
      "    libvorbis-1.3.7            |       h0e60522_0         267 KB  conda-forge\n",
      "    pooch-1.8.0                |     pyhd8ed1ab_0          51 KB  conda-forge\n",
      "    pysoundfile-0.11.0         |     pyhd8ed1ab_0          25 KB  conda-forge\n",
      "    python_abi-3.9             |           2_cp39           4 KB  conda-forge\n",
      "    resampy-0.4.2              |     pyhd8ed1ab_0         3.2 MB  conda-forge\n",
      "    ------------------------------------------------------------\n",
      "                                           Total:         5.6 MB\n",
      "\n",
      "The following NEW packages will be INSTALLED:\n",
      "\n",
      "  audioread          conda-forge/win-64::audioread-3.0.1-py39hcbf5309_1 None\n",
      "  libflac            conda-forge/win-64::libflac-1.3.4-h0e60522_0 None\n",
      "  libogg             conda-forge/win-64::libogg-1.3.4-h8ffe710_1 None\n",
      "  libopus            conda-forge/win-64::libopus-1.3.1-h8ffe710_1 None\n",
      "  librosa            conda-forge/noarch::librosa-0.9.2-pyhd8ed1ab_0 None\n",
      "  libsndfile         conda-forge/win-64::libsndfile-1.0.31-h0e60522_1 None\n",
      "  libvorbis          conda-forge/win-64::libvorbis-1.3.7-h0e60522_0 None\n",
      "  pooch              conda-forge/noarch::pooch-1.8.0-pyhd8ed1ab_0 None\n",
      "  pysoundfile        conda-forge/noarch::pysoundfile-0.11.0-pyhd8ed1ab_0 None\n",
      "  python_abi         conda-forge/win-64::python_abi-3.9-2_cp39 None\n",
      "  resampy            conda-forge/noarch::resampy-0.4.2-pyhd8ed1ab_0 None\n",
      "\n",
      "The following packages will be UPDATED:\n",
      "\n",
      "  conda              pkgs/main::conda-22.9.0-py39haa95532_0 --> conda-forge::conda-22.9.0-py39hcbf5309_2 None\n",
      "\n",
      "\n",
      "\n",
      "Downloading and Extracting Packages\n",
      "\n",
      "libogg-1.3.4         | 34 KB     |            |   0% \n",
      "libogg-1.3.4         | 34 KB     | ####6      |  47% \n",
      "libogg-1.3.4         | 34 KB     | ########## | 100% \n",
      "libogg-1.3.4         | 34 KB     | ########## | 100% \n",
      "\n",
      "libflac-1.3.4        | 355 KB    |            |   0% \n",
      "libflac-1.3.4        | 355 KB    | 4          |   5% \n",
      "libflac-1.3.4        | 355 KB    | #8         |  18% \n",
      "libflac-1.3.4        | 355 KB    | ##7        |  27% \n",
      "libflac-1.3.4        | 355 KB    | ###6       |  36% \n",
      "libflac-1.3.4        | 355 KB    | ########## | 100% \n",
      "libflac-1.3.4        | 355 KB    | ########## | 100% \n",
      "\n",
      "librosa-0.9.2        | 156 KB    |            |   0% \n",
      "librosa-0.9.2        | 156 KB    | ########## | 100% \n",
      "librosa-0.9.2        | 156 KB    | ########## | 100% \n",
      "\n",
      "libsndfile-1.0.31    | 354 KB    |            |   0% \n",
      "libsndfile-1.0.31    | 354 KB    | 4          |   5% \n",
      "libsndfile-1.0.31    | 354 KB    | 9          |   9% \n",
      "libsndfile-1.0.31    | 354 KB    | #8         |  18% \n",
      "libsndfile-1.0.31    | 354 KB    | ##7        |  27% \n",
      "libsndfile-1.0.31    | 354 KB    | ###6       |  36% \n",
      "libsndfile-1.0.31    | 354 KB    | ####5      |  45% \n",
      "libsndfile-1.0.31    | 354 KB    | #####4     |  54% \n",
      "libsndfile-1.0.31    | 354 KB    | ######3    |  63% \n",
      "libsndfile-1.0.31    | 354 KB    | #######2   |  72% \n",
      "libsndfile-1.0.31    | 354 KB    | ########1  |  81% \n",
      "libsndfile-1.0.31    | 354 KB    | ########## | 100% \n",
      "libsndfile-1.0.31    | 354 KB    | ########## | 100% \n",
      "\n",
      "resampy-0.4.2        | 3.2 MB    |            |   0% \n",
      "resampy-0.4.2        | 3.2 MB    |            |   0% \n",
      "resampy-0.4.2        | 3.2 MB    | ###3       |  33% \n",
      "resampy-0.4.2        | 3.2 MB    | ######5    |  66% \n",
      "resampy-0.4.2        | 3.2 MB    | ########## | 100% \n",
      "resampy-0.4.2        | 3.2 MB    | ########## | 100% \n",
      "\n",
      "conda-22.9.0         | 985 KB    |            |   0% \n",
      "conda-22.9.0         | 985 KB    | ########2  |  83% \n",
      "conda-22.9.0         | 985 KB    | ########## | 100% \n",
      "\n",
      "python_abi-3.9       | 4 KB      |            |   0% \n",
      "python_abi-3.9       | 4 KB      | ########## | 100% \n",
      "\n",
      "audioread-3.0.1      | 36 KB     |            |   0% \n",
      "audioread-3.0.1      | 36 KB     | ########## | 100% \n",
      "audioread-3.0.1      | 36 KB     | ########## | 100% \n",
      "\n",
      "libopus-1.3.1        | 255 KB    |            |   0% \n",
      "libopus-1.3.1        | 255 KB    | ########## | 100% \n",
      "libopus-1.3.1        | 255 KB    | ########## | 100% \n",
      "\n",
      "pooch-1.8.0          | 51 KB     |            |   0% \n",
      "pooch-1.8.0          | 51 KB     | ########## | 100% \n",
      "pooch-1.8.0          | 51 KB     | ########## | 100% \n",
      "\n",
      "libvorbis-1.3.7      | 267 KB    |            |   0% \n",
      "libvorbis-1.3.7      | 267 KB    | ########## | 100% \n",
      "libvorbis-1.3.7      | 267 KB    | ########## | 100% \n",
      "\n",
      "pysoundfile-0.11.0   | 25 KB     |            |   0% \n",
      "pysoundfile-0.11.0   | 25 KB     | ######3    |  64% \n",
      "pysoundfile-0.11.0   | 25 KB     | ########## | 100% \n",
      "Preparing transaction: ...working... done\n",
      "Verifying transaction: ...working... done\n",
      "Executing transaction: ...working... done\n",
      "Retrieving notices: ...working... done\n",
      "\n",
      "Note: you may need to restart the kernel to use updated packages.\n"
     ]
    },
    {
     "name": "stderr",
     "output_type": "stream",
     "text": [
      "\n",
      "\n",
      "==> WARNING: A newer version of conda exists. <==\n",
      "  current version: 22.9.0\n",
      "  latest version: 24.1.0\n",
      "\n",
      "Please update conda by running\n",
      "\n",
      "    $ conda update -n base -c defaults conda\n",
      "\n",
      "\n"
     ]
    }
   ],
   "source": [
    "conda install -c conda-forge librosa"
   ]
  },
  {
   "cell_type": "code",
   "execution_count": 1,
   "metadata": {},
   "outputs": [
    {
     "name": "stderr",
     "output_type": "stream",
     "text": [
      "C:\\Users\\DELL\\anaconda3\\lib\\site-packages\\paramiko\\transport.py:219: CryptographyDeprecationWarning: Blowfish has been deprecated\n",
      "  \"class\": algorithms.Blowfish,\n"
     ]
    }
   ],
   "source": [
    "import numpy as np\n",
    "import pandas as pd\n",
    "import librosa\n",
    "import librosa.display\n",
    "import glob as gb\n",
    "import matplotlib.pyplot as plt\n",
    "import gc"
   ]
  },
  {
   "cell_type": "code",
   "execution_count": 2,
   "metadata": {},
   "outputs": [],
   "source": [
    "sound_dir_loc=np.array(gb.glob(\"audio_and_txt_files/*.wav\"))"
   ]
  },
  {
   "cell_type": "code",
   "execution_count": 3,
   "metadata": {},
   "outputs": [],
   "source": [
    "\n",
    "def build_spectogram(file_path,sound_file_name):\n",
    "    plt.interactive(False)\n",
    "    file_audio_series,sr = librosa.load(file_path,sr=None)    \n",
    "    spec_image = plt.figure(figsize=[0.72,0.72])\n",
    "    ax = spec_image.add_subplot(111)\n",
    "    ax.axes.get_xaxis().set_visible(False)\n",
    "    ax.axes.get_yaxis().set_visible(False)\n",
    "    ax.set_frame_on(False)\n",
    "    spectogram = librosa.feature.melspectrogram(y=file_audio_series, sr=sr)\n",
    "    librosa.display.specshow(librosa.power_to_db(spectogram, ref=np.max))\n",
    "    image_name  = 'spec_images/' + sound_file_name + '.jpg'\n",
    "    plt.savefig(image_name, dpi=400, bbox_inches='tight',pad_inches=0)\n",
    "    plt.close()    \n",
    "    spec_image.clf()\n",
    "    plt.close(spec_image)\n",
    "    plt.close('all')\n",
    "    del file_path,sound_file_name,file_audio_series,sr,spec_image,ax,spectogram"
   ]
  },
  {
   "cell_type": "code",
   "execution_count": 5,
   "metadata": {},
   "outputs": [
    {
     "name": "stdout",
     "output_type": "stream",
     "text": [
      "Index: 0\n"
     ]
    },
    {
     "data": {
      "text/plain": [
       "2106"
      ]
     },
     "execution_count": 5,
     "metadata": {},
     "output_type": "execute_result"
    }
   ],
   "source": [
    "index=0\n",
    "for file in sound_dir_loc[index:]:\n",
    "    sfile_name = file.split('\\\\')[1].split('.')[0]\n",
    "    build_spectogram(file,sfile_name)\n",
    "    print('Index:',index)\n",
    "    \n",
    "gc.collect()\n",
    "\n",
    "# =============================================================================\n",
    "# Perform the conversion of sound clips to images in batches for faster memory handling\n",
    "#\n",
    "# index=0\n",
    "# for file in sound_dir_loc[index:index+50]:\n",
    "#     sfile_name = sound_dir_loc[index].split('\\\\')[1].split('.')[0]\n",
    "#     build_spectogram(sound_dir_loc[index],sfile_name)\n",
    "#     \n",
    "# index=0\n",
    "# for file in sound_dir_loc[index:index+50]:\n",
    "#     sfile_name = sound_dir_loc[index].split('\\\\')[1].split('.')[0]\n",
    "#     build_spectogram(sound_dir_loc[index],sfile_name)\n",
    "#     \n",
    "# index=0\n",
    "# for file in sound_dir_loc[index:index+50]:\n",
    "#     sfile_name = sound_dir_loc[index].split('\\\\')[1].split('.')[0]\n",
    "#     build_spectogram(sound_dir_loc[index],sfile_name)\n",
    "# ============================================================================="
   ]
  },
  {
   "cell_type": "code",
   "execution_count": 6,
   "metadata": {},
   "outputs": [],
   "source": [
    "patient_data=pd.read_csv('patient_diagnosis.csv',dtype=str)\n",
    "spectograms_dir_loc=np.array(gb.glob(\"spec_images-Copy/*.jpg\"))\n",
    "patient_data_all = patient_data[0:0]"
   ]
  },
  {
   "cell_type": "code",
   "execution_count": null,
   "metadata": {},
   "outputs": [],
   "source": [
    "import keras\n",
    "from keras import backend as K\n",
    "from keras.layers.core import Dense\n",
    "from keras.optimizers import Adam\n",
    "from keras.metrics import categorical_crossentropy\n",
    "from keras.preprocessing import image\n",
    "from keras.preprocessing.image import ImageDataGenerator\n",
    "from keras.models import Model\n",
    "from keras.applications import imagenet_utils"
   ]
  },
  {
   "cell_type": "code",
   "execution_count": 8,
   "metadata": {},
   "outputs": [
    {
     "ename": "ModuleNotFoundError",
     "evalue": "No module named 'keras'",
     "output_type": "error",
     "traceback": [
      "\u001b[1;31m---------------------------------------------------------------------------\u001b[0m",
      "\u001b[1;31mModuleNotFoundError\u001b[0m                       Traceback (most recent call last)",
      "\u001b[1;32m~\\AppData\\Local\\Temp\\ipykernel_404\\3946534924.py\u001b[0m in \u001b[0;36m<module>\u001b[1;34m\u001b[0m\n\u001b[1;32m----> 1\u001b[1;33m \u001b[1;32mfrom\u001b[0m \u001b[0mkeras\u001b[0m\u001b[1;33m.\u001b[0m\u001b[0mpreprocessing\u001b[0m \u001b[1;32mimport\u001b[0m \u001b[0mimage\u001b[0m\u001b[1;33m\u001b[0m\u001b[1;33m\u001b[0m\u001b[0m\n\u001b[0m\u001b[0;32m      2\u001b[0m \u001b[1;33m\u001b[0m\u001b[0m\n\u001b[0;32m      3\u001b[0m \u001b[0mindex\u001b[0m \u001b[1;33m=\u001b[0m \u001b[1;36m0\u001b[0m\u001b[1;33m\u001b[0m\u001b[1;33m\u001b[0m\u001b[0m\n\u001b[0;32m      4\u001b[0m \u001b[1;32mfor\u001b[0m \u001b[0mimage\u001b[0m \u001b[1;32min\u001b[0m \u001b[0mspectograms_dir_loc\u001b[0m\u001b[1;33m[\u001b[0m\u001b[0mindex\u001b[0m\u001b[1;33m:\u001b[0m\u001b[1;33m]\u001b[0m\u001b[1;33m:\u001b[0m\u001b[1;33m\u001b[0m\u001b[1;33m\u001b[0m\u001b[0m\n\u001b[0;32m      5\u001b[0m     \u001b[0mimage_name\u001b[0m \u001b[1;33m=\u001b[0m \u001b[0mimage\u001b[0m\u001b[1;33m.\u001b[0m\u001b[0msplit\u001b[0m\u001b[1;33m(\u001b[0m\u001b[1;34m'\\\\'\u001b[0m\u001b[1;33m)\u001b[0m\u001b[1;33m[\u001b[0m\u001b[1;36m1\u001b[0m\u001b[1;33m]\u001b[0m\u001b[1;33m\u001b[0m\u001b[1;33m\u001b[0m\u001b[0m\n",
      "\u001b[1;31mModuleNotFoundError\u001b[0m: No module named 'keras'"
     ]
    }
   ],
   "source": [
    "\n",
    "\n",
    "index = 0\n",
    "for image in spectograms_dir_loc[index:]:\n",
    "    image_name = image.split('\\\\')[1]\n",
    "    patient_id = image_name.split('_')[0]\n",
    "    patient_condition = patient_data.loc[(patient_data['ID'] == patient_id)].iloc[0]['CLASS']\n",
    "    # print(image_name,patient_id,patient_condition,sep=' ',end='\\n')\n",
    "    patient_data_all.loc[len(patient_data_all)] = [image_name, patient_condition]\n",
    "    \n",
    "del image_name,patient_id,patient_condition,index,image"
   ]
  },
  {
   "cell_type": "code",
   "execution_count": null,
   "metadata": {},
   "outputs": [],
   "source": [
    "from sklearn.model_selection import train_test_split\n",
    "trainset_df, testset_df = train_test_split(patient_data_all, test_size=0.2)"
   ]
  },
  {
   "cell_type": "code",
   "execution_count": null,
   "metadata": {},
   "outputs": [],
   "source": [
    "from keras_preprocessing.image import ImageDataGenerator\n",
    "train_datagen = ImageDataGenerator(rescale = 1./255,validation_split=0.25)\n",
    "test_datagen = ImageDataGenerator(rescale = 1./255)"
   ]
  },
  {
   "cell_type": "code",
   "execution_count": null,
   "metadata": {},
   "outputs": [],
   "source": [
    "training_set = train_datagen.flow_from_dataframe(\n",
    "    dataframe=trainset_df,\n",
    "    directory=\"spec_images/\",\n",
    "    x_col=\"ID\",\n",
    "    y_col=\"CLASS\",\n",
    "    subset=\"training\",\n",
    "    batch_size=32,\n",
    "    seed=42,\n",
    "    shuffle=True,\n",
    "    class_mode=\"categorical\",\n",
    "    target_size=(64,64))\n",
    "\n",
    "validation_set = train_datagen.flow_from_dataframe(\n",
    "    dataframe=trainset_df,\n",
    "    directory=\"spec_images/\",\n",
    "    x_col=\"ID\",\n",
    "    y_col=\"CLASS\",\n",
    "    subset=\"validation\",\n",
    "    batch_size=32,\n",
    "    seed=42,\n",
    "    shuffle=True,\n",
    "    class_mode=\"categorical\",\n",
    "    target_size=(64,64))\n",
    "\n",
    "test_set = test_datagen.flow_from_dataframe(\n",
    "    dataframe=testset_df,\n",
    "    directory=\"spec_images/\",\n",
    "    x_col=\"ID\",\n",
    "    y_col=None,\n",
    "    batch_size=32,\n",
    "    seed=42,\n",
    "    shuffle=False,\n",
    "    class_mode=None,\n",
    "    target_size=(64,64))"
   ]
  },
  {
   "cell_type": "code",
   "execution_count": null,
   "metadata": {},
   "outputs": [],
   "source": [
    "from keras.models import Sequential\n",
    "from keras.layers import Convolution2D, Conv2D\n",
    "from keras.layers import MaxPooling2D\n",
    "from keras.layers import Flatten\n",
    "from keras.layers import Dense\n",
    "from keras.layers import Dropout,BatchNormalization"
   ]
  },
  {
   "cell_type": "code",
   "execution_count": null,
   "metadata": {},
   "outputs": [],
   "source": [
    "classifier = Sequential()\n",
    "classifier.add(Conv2D(32, kernel_size = (3, 3), input_shape = (64, 64, 3), activation = 'relu'))\n",
    "classifier.add(MaxPooling2D(pool_size = (2, 2)))\n",
    "classifier.add(Conv2D(64, kernel_size = (3, 3), activation = 'relu'))\n",
    "classifier.add(MaxPooling2D(pool_size = (2, 2)))\n",
    "classifier.add(Conv2D(64, kernel_size = (3, 3), activation = 'relu'))\n",
    "classifier.add(MaxPooling2D(pool_size = (2, 2)))\n",
    "classifier.add(Conv2D(32, kernel_size = (3, 3), activation = 'relu'))\n",
    "classifier.add(MaxPooling2D(pool_size = (2, 2)))\n",
    "classifier.add(Dropout(0.2))\n",
    "classifier.add(Flatten())\n",
    "\n",
    "classifier.add(Dense(output_dim = 128, activation = 'relu'))\n",
    "classifier.add(Dense(output_dim = 7, activation = 'softmax'))\n",
    "\n",
    "classifier.compile(optimizer='adam',loss=\"categorical_crossentropy\",metrics=[\"accuracy\"])"
   ]
  },
  {
   "cell_type": "code",
   "execution_count": null,
   "metadata": {},
   "outputs": [],
   "source": [
    "step_train_size=training_set.n//training_set.batch_size\n",
    "step_valid_size=validation_set.n//validation_set.batch_size\n",
    "\n",
    "classifier.fit_generator(generator=training_set,\n",
    "                    steps_per_epoch=step_train_size,\n",
    "                    validation_data=validation_set,\n",
    "                    validation_steps=step_valid_size,\n",
    "                    epochs=50)"
   ]
  },
  {
   "cell_type": "code",
   "execution_count": null,
   "metadata": {},
   "outputs": [],
   "source": [
    "classifier.evaluate_generator(generator=validation_set, steps=step_valid_size)"
   ]
  },
  {
   "cell_type": "code",
   "execution_count": null,
   "metadata": {},
   "outputs": [],
   "source": [
    "step_test_size = test_set.n//test_set.batch_size\n",
    "predicted_conditions = classifier.predict_generator(test_set,steps=step_test_size, verbose=1)\n",
    "\n",
    "predicted_class_indices=np.argmax(predicted_conditions,axis=1)"
   ]
  },
  {
   "cell_type": "code",
   "execution_count": null,
   "metadata": {},
   "outputs": [],
   "source": [
    "labels = (training_set.class_indices)\n",
    "labels = dict((v,k) for k,v in labels.items())\n",
    "predictions = [labels[k] for k in predicted_class_indices]\n",
    "print(predictions[0:10])\n",
    "print(testset_df.head(10))"
   ]
  }
 ],
 "metadata": {
  "kernelspec": {
   "display_name": "Python 3 (ipykernel)",
   "language": "python",
   "name": "python3"
  },
  "language_info": {
   "codemirror_mode": {
    "name": "ipython",
    "version": 3
   },
   "file_extension": ".py",
   "mimetype": "text/x-python",
   "name": "python",
   "nbconvert_exporter": "python",
   "pygments_lexer": "ipython3",
   "version": "3.9.13"
  }
 },
 "nbformat": 4,
 "nbformat_minor": 2
}
